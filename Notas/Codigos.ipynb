{
 "cells": [
  {
   "cell_type": "code",
   "execution_count": 2,
   "metadata": {},
   "outputs": [
    {
     "name": "stdout",
     "output_type": "stream",
     "text": [
      "1, 3, hola\n"
     ]
    },
    {
     "data": {
      "text/plain": [
       "<__main__.calc at 0x1877c47fcd0>"
      ]
     },
     "execution_count": 2,
     "metadata": {},
     "output_type": "execute_result"
    }
   ],
   "source": [
    "import math\n",
    "\n",
    "class calc():\n",
    "    def __init__(self, a, b, tipe):\n",
    "        print(\"{}, {}, {}\".format(a, b, tipe))\n",
    "        pass\n",
    "    \n",
    "calc(1, 3, \"hola\")\n"
   ]
  }
 ],
 "metadata": {
  "interpreter": {
   "hash": "028bfd09ed9ae6ec40818c661e7e8e085ca01f36fb4685ea0ff381a7895c10ac"
  },
  "kernelspec": {
   "display_name": "Python 3.10.1 64-bit",
   "language": "python",
   "name": "python3"
  },
  "language_info": {
   "codemirror_mode": {
    "name": "ipython",
    "version": 3
   },
   "file_extension": ".py",
   "mimetype": "text/x-python",
   "name": "python",
   "nbconvert_exporter": "python",
   "pygments_lexer": "ipython3",
   "version": "3.9.7"
  },
  "orig_nbformat": 4
 },
 "nbformat": 4,
 "nbformat_minor": 2
}
